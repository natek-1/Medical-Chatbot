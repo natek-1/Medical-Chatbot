{
 "cells": [
  {
   "cell_type": "code",
   "execution_count": 9,
   "metadata": {},
   "outputs": [],
   "source": [
    "import os\n",
    "os.chdir(\"../\")"
   ]
  },
  {
   "cell_type": "code",
   "execution_count": 10,
   "metadata": {},
   "outputs": [
    {
     "name": "stdout",
     "output_type": "stream",
     "text": [
      "/Users/ngkuissi/Dev/projects/Medical-Chatbot\n"
     ]
    }
   ],
   "source": [
    "!pwd"
   ]
  },
  {
   "cell_type": "code",
   "execution_count": 11,
   "metadata": {},
   "outputs": [],
   "source": [
    "from langchain.document_loaders import PyPDFLoader, DirectoryLoader\n",
    "from langchain.text_splitter import RecursiveCharacterTextSplitter\n",
    "from langchain_huggingface import HuggingFaceEmbeddings\n",
    "from pinecone import Pinecone, ServerlessSpec\n",
    "from dotenv import load_dotenv"
   ]
  },
  {
   "cell_type": "code",
   "execution_count": 12,
   "metadata": {},
   "outputs": [
    {
     "data": {
      "text/plain": [
       "True"
      ]
     },
     "execution_count": 12,
     "metadata": {},
     "output_type": "execute_result"
    }
   ],
   "source": [
    "load_dotenv()"
   ]
  },
  {
   "cell_type": "code",
   "execution_count": 13,
   "metadata": {},
   "outputs": [],
   "source": [
    "def load_pdf_file(path):\n",
    "    loader = DirectoryLoader(\n",
    "        path, glob=\"medical_book.pdf\", loader_cls=PyPDFLoader\n",
    "    )\n",
    "    return loader.load()"
   ]
  },
  {
   "cell_type": "code",
   "execution_count": 14,
   "metadata": {},
   "outputs": [],
   "source": [
    "extracted_data = load_pdf_file(\"data/\")"
   ]
  },
  {
   "cell_type": "code",
   "execution_count": 15,
   "metadata": {},
   "outputs": [
    {
     "data": {
      "text/plain": [
       "'right away. Switching to a different antimalarial drug may\\nbe an alternative and can allow the side effects to stop.\\nAnyone taking antimalarial drugs to prevent malaria\\nwho develops a fever or flu-like symptoms while taking\\nthe medicine or within two to three months after travel-\\ning to an area where malaria is common should call a\\nphysician immediately.\\nIf the medicine is being taken to treat malaria, and\\nsymptoms stay the same or get worse, check with the\\nphysician who prescribed the medicine.\\nPatients who take this medicine over a long time\\nneed to have a physician check them periodically for\\nunwanted side effects.\\nBabies and children are especially sensitive to the\\nantimalarial drug chloroquine. Not only are they more\\nlikely to have side effects from the medicine, but they are\\nalso at greater risk of being harmed by an overdose. A\\nsingle 300-mg tablet could kill a small child. Keep this\\nmedicine out of the reach of children. Use safety vials.\\nSpecial conditions\\nPeople with certain medical conditions or who are\\ntaking certain other medicines can have problems if\\nthey take antimalarial drugs. Before taking these drugs,\\nbe sure to let the physician know about any of these\\nconditions:\\nALLERGIES. Anyone who has had unusual reac-\\ntions to antimalarial drugs or related medicines in the\\npast should let his or her physician know before taking\\nthe drugs again. The physician should also be told\\nabout any allergies to foods, dyes, preservatives, or\\nother substances.\\nPREGNANCY. In laboratory animal studies, some\\nantimalarial drugs cause birth defects . But it is also\\nrisky for a pregnant woman to get malaria. Untreated\\nmalaria can cause premature birth,stillbirth , and mis-\\ncarriage . When given in low doses to prevent malaria,\\nantimalarial drugs have not been reported to cause birth\\ndefects in humans. If possible, pregnant women should\\navoid traveling to areas where they could get malaria. If\\ntravel is necessary, women who are pregnant or who may\\nbecome pregnant should check with their physicians\\nabout the use of antimalarial drugs.\\nBREASTFEEDING. Some antimalarial drugs pass into\\nbreast milk. Although no problems have been reported in\\nnursing babies whose mothers took antimalarial drugs,\\nbabies and young children are particularly sensitive to\\nsome of these drugs. Women who are breastfeeding\\nshould check with their physicians before using anti-\\nmalarial drugs.\\nOTHER MEDICAL CONDITIONS. Before using anti-\\nmalarial drugs, people who have any of these medical\\nproblems (or have had them in the past) should make\\nsure their physicians are aware of their conditions:\\n• blood disease\\n• liver disease\\n• nerve or brain disease or disorder, including seizures\\n(convulsions)\\n• past or current mental disorder\\n• stomach or intestinal disease\\n• deficiency of the enzyme glucose-6-phosphate dehy-\\ndrogenase (G6PD), which is important in the break-\\ndown of sugar in the body\\n• deficiency of the enzyme nicotinamide adenine dinu-\\ncleotide (NADH) methemoglobin reductase\\n• psoriasis\\n• heart disease\\n• family or personal history of the genetic condition fav-\\nism (a hereditary allergic condition)\\n• family or personal history of hemolytic anemia, a con-\\ndition in which red blood cells are destroyed\\n• purpura\\n• hypoglycemia (low blood sugar)\\n• blackwater fever (a serious complication of one type of\\nmalaria)\\n• myasthenia gravis (a disease of the nerves and muscles)\\nUSE OF CERTAIN MEDICINES. Taking antimalarial\\ndrugs with certain other drugs may affect the way the\\ndrugs work or may increase the chance of side effects.\\nSide effects\\nHigh doses of the antimalarial drug pyrimethamine\\nmay cause blood problems that caninterfere with healing\\nand increase the risk of infection. People taking this drug\\nshould be careful not to injure their gums when brushing\\nor flossing their teeth or using toothpicks. If possible,\\ndental work should be postponed until treatment is com-\\nplete and the blood has returned to normal.\\nThe most common side effects of antimalarial drugs\\nare diarrhea , nausea or vomiting, stomach cramps or\\npain, loss of appetite, headache, itching, difficulty con-\\ncentrating, dizziness, lightheadedness, and sleep prob-\\nlems. These problems usually go away as the body\\nadjusts to the drug and do not require medical treatment.\\nLess common side effects, such as hair loss or loss of\\ncolor in the hair; skin rash; or blue-black discoloration of\\nthe skin, fingernails, or inside of the mouth also may\\nGALE ENCYCLOPEDIA OF MEDICINE 2 287\\nAntimalarial drugs\\nGEM - 0001 to 0432 - A  10/22/03 1:42 PM  Page 287'"
      ]
     },
     "execution_count": 15,
     "metadata": {},
     "output_type": "execute_result"
    }
   ],
   "source": [
    "extracted_data[300].page_content"
   ]
  },
  {
   "cell_type": "code",
   "execution_count": 16,
   "metadata": {},
   "outputs": [],
   "source": [
    "def split_text(extracted_data):\n",
    "    text_splitter = RecursiveCharacterTextSplitter(chunk_size=500, chunk_overlap=20)\n",
    "    text_chunks = text_splitter.split_documents(extracted_data)\n",
    "    return text_chunks"
   ]
  },
  {
   "cell_type": "code",
   "execution_count": 17,
   "metadata": {},
   "outputs": [
    {
     "name": "stdout",
     "output_type": "stream",
     "text": [
      "Length of chunks: 5860\n"
     ]
    }
   ],
   "source": [
    "text_chunks = split_text(extracted_data)\n",
    "print(\"Length of chunks:\", len(text_chunks))"
   ]
  },
  {
   "cell_type": "code",
   "execution_count": 18,
   "metadata": {},
   "outputs": [],
   "source": [
    "def downlaod_hugging_face_embeddings():\n",
    "    embedding_model = HuggingFaceEmbeddings(model_name=\"sentence-transformers/all-MiniLM-L6-v2\")\n",
    "    return embedding_model"
   ]
  },
  {
   "cell_type": "code",
   "execution_count": 19,
   "metadata": {},
   "outputs": [],
   "source": [
    "embedding_model = downlaod_hugging_face_embeddings()"
   ]
  },
  {
   "cell_type": "code",
   "execution_count": 20,
   "metadata": {},
   "outputs": [
    {
     "name": "stdout",
     "output_type": "stream",
     "text": [
      "Length 384\n"
     ]
    }
   ],
   "source": [
    "query_result = embedding_model.embed_query(\"Hello world\")\n",
    "print(\"Length\", len(query_result))"
   ]
  },
  {
   "cell_type": "code",
   "execution_count": 21,
   "metadata": {},
   "outputs": [
    {
     "data": {
      "text/plain": [
       "<pinecone.control.pinecone.Pinecone at 0x164983640>"
      ]
     },
     "execution_count": 21,
     "metadata": {},
     "output_type": "execute_result"
    }
   ],
   "source": [
    "pc = Pinecone(api_key=os.environ['PINECONE_API_KEY'])\n",
    "pc"
   ]
  },
  {
   "cell_type": "code",
   "execution_count": 22,
   "metadata": {},
   "outputs": [],
   "source": [
    "index_name = \"medical-bot\""
   ]
  },
  {
   "cell_type": "code",
   "execution_count": 23,
   "metadata": {},
   "outputs": [],
   "source": [
    "pc.create_index(\n",
    "    name=index_name,\n",
    "    dimension=384, # Replace with your model dimensions\n",
    "    metric=\"cosine\", # Replace with your model metric\n",
    "    spec=ServerlessSpec(\n",
    "        cloud=\"aws\",\n",
    "        region=\"us-east-1\"\n",
    "    ) \n",
    ")"
   ]
  },
  {
   "cell_type": "markdown",
   "metadata": {},
   "source": [
    "### Embed each chunk and insert the embeding into the database"
   ]
  },
  {
   "cell_type": "code",
   "execution_count": 24,
   "metadata": {},
   "outputs": [],
   "source": [
    "from langchain_pinecone import PineconeVectorStore"
   ]
  },
  {
   "cell_type": "code",
   "execution_count": 25,
   "metadata": {},
   "outputs": [],
   "source": [
    "docsearch = PineconeVectorStore.from_documents(\n",
    "    documents=text_chunks,\n",
    "    index_name=index_name,\n",
    "    embedding=embedding_model\n",
    ")"
   ]
  },
  {
   "cell_type": "markdown",
   "metadata": {},
   "source": [
    "### Load existing indexes from pincone"
   ]
  },
  {
   "cell_type": "code",
   "execution_count": 26,
   "metadata": {},
   "outputs": [],
   "source": [
    "from langchain_pinecone import PineconeVectorStore"
   ]
  },
  {
   "cell_type": "code",
   "execution_count": 27,
   "metadata": {},
   "outputs": [],
   "source": [
    "docsearch = PineconeVectorStore.from_existing_index(\n",
    "    index_name=index_name,\n",
    "    embedding=embedding_model,\n",
    ")"
   ]
  },
  {
   "cell_type": "code",
   "execution_count": 28,
   "metadata": {},
   "outputs": [],
   "source": [
    "retriever = docsearch.as_retriever(search_type='similarity', search_kwargs={'k': 3})"
   ]
  },
  {
   "cell_type": "code",
   "execution_count": 29,
   "metadata": {},
   "outputs": [],
   "source": [
    "retrived_docs = retriever.invoke(\"What is Acne?\")"
   ]
  },
  {
   "cell_type": "code",
   "execution_count": 30,
   "metadata": {},
   "outputs": [
    {
     "data": {
      "text/plain": [
       "[Document(id='152e56e4-83fd-4c01-b7a1-5bab24f1b172', metadata={'page': 39.0, 'source': 'data/medical_book.pdf'}, page_content='GALE ENCYCLOPEDIA OF MEDICINE 226\\nAcne\\nGEM - 0001 to 0432 - A  10/22/03 1:41 PM  Page 26'),\n",
       " Document(id='da44a7f0-8f29-402e-ac12-27d74de237c2', metadata={'page': 38.0, 'source': 'data/medical_book.pdf'}, page_content='GALE ENCYCLOPEDIA OF MEDICINE 2 25\\nAcne\\nAcne vulgaris affecting a woman’s face. Acne is the general\\nname given to a skin disorder in which the sebaceous\\nglands become inflamed.(Photograph by Biophoto Associ-\\nates, Photo Researchers, Inc. Reproduced by permission.)\\nGEM - 0001 to 0432 - A  10/22/03 1:41 PM  Page 25'),\n",
       " Document(id='54eb28e4-5d1f-4415-803a-c9de8dfd9a6f', metadata={'page': 37.0, 'source': 'data/medical_book.pdf'}, page_content='Acidosis see Respiratory acidosis; Renal\\ntubular acidosis; Metabolic acidosis\\nAcne\\nDefinition\\nAcne is a common skin disease characterized by\\npimples on the face, chest, and back. It occurs when the\\npores of the skin become clogged with oil, dead skin\\ncells, and bacteria.\\nDescription\\nAcne vulgaris, the medical term for common acne, is\\nthe most common skin disease. It affects nearly 17 million\\npeople in the United States. While acne can arise at any')]"
      ]
     },
     "execution_count": 30,
     "metadata": {},
     "output_type": "execute_result"
    }
   ],
   "source": [
    "retrived_docs"
   ]
  },
  {
   "cell_type": "code",
   "execution_count": 31,
   "metadata": {},
   "outputs": [],
   "source": [
    "from langchain_openai import OpenAI\n",
    "\n",
    "llm = OpenAI(temperature=0.3, max_tokens=500)"
   ]
  },
  {
   "cell_type": "code",
   "execution_count": 32,
   "metadata": {},
   "outputs": [],
   "source": [
    "from langchain.chains import create_retrieval_chain\n",
    "from langchain.chains.combine_documents import create_stuff_documents_chain\n",
    "from langchain_core.prompts import ChatPromptTemplate"
   ]
  },
  {
   "cell_type": "code",
   "execution_count": 33,
   "metadata": {},
   "outputs": [],
   "source": [
    "system_prompt = (\n",
    "    \"You are an assistant for question-answering tasks. \"\n",
    "    \"Use the following pieces of retrieved context to answer the question.\"\n",
    "    \"If you don't know the answer, say that you don't know.\"\n",
    "    \"keep the answer concise.\"\n",
    "    \"\\n\\n\"\n",
    "    \"{context}\"\n",
    ")\n"
   ]
  },
  {
   "cell_type": "code",
   "execution_count": 34,
   "metadata": {},
   "outputs": [
    {
     "name": "stdout",
     "output_type": "stream",
     "text": [
      "You are an assistant for question-answering tasks. Use the following pieces of retrieved context to answer the question.If you don't know the answer, say that you don't know.keep the answer concise.\n",
      "\n",
      "{context}\n"
     ]
    }
   ],
   "source": [
    "print(system_prompt)"
   ]
  },
  {
   "cell_type": "code",
   "execution_count": 35,
   "metadata": {},
   "outputs": [],
   "source": [
    "prompt = ChatPromptTemplate.from_messages(\n",
    "    [\n",
    "        ('system', system_prompt),\n",
    "        ('user', \"{input}\")\n",
    "    ]\n",
    ")"
   ]
  },
  {
   "cell_type": "code",
   "execution_count": 36,
   "metadata": {},
   "outputs": [],
   "source": [
    "question_answer_chain = create_stuff_documents_chain(llm, prompt)\n",
    "rag_chain = create_retrieval_chain(retriever, question_answer_chain)"
   ]
  },
  {
   "cell_type": "code",
   "execution_count": 37,
   "metadata": {},
   "outputs": [
    {
     "name": "stdout",
     "output_type": "stream",
     "text": [
      "\n",
      "\n",
      "Acromegaly and gigantism are disorders caused by the abnormal release of a chemical from the pituitary gland in the brain, leading to increased growth in bone and soft tissue. This results in a variety of disturbances throughout the body, including unusual height. Acromegaly occurs after bone growth stops, while gigantism occurs during childhood and adolescence. Symptoms of these disorders often occur gradually and can include enlarged hands and feet, facial changes, and other health complications. \n"
     ]
    }
   ],
   "source": [
    "response = rag_chain.invoke({\"input\": \"what is Acromegaly and gigantism?\"})\n",
    "print(response[\"answer\"])"
   ]
  },
  {
   "cell_type": "code",
   "execution_count": 38,
   "metadata": {},
   "outputs": [
    {
     "name": "stdout",
     "output_type": "stream",
     "text": [
      "\n",
      "\n",
      "I'm sorry, I don't have enough information to answer that question. Could you provide more context or clarify what you mean by \"stats\"?\n"
     ]
    }
   ],
   "source": [
    "response = rag_chain.invoke({\"input\": \"what is stats?\"})\n",
    "print(response[\"answer\"])"
   ]
  },
  {
   "cell_type": "code",
   "execution_count": null,
   "metadata": {},
   "outputs": [],
   "source": []
  },
  {
   "cell_type": "code",
   "execution_count": null,
   "metadata": {},
   "outputs": [],
   "source": []
  },
  {
   "cell_type": "code",
   "execution_count": null,
   "metadata": {},
   "outputs": [],
   "source": []
  },
  {
   "cell_type": "code",
   "execution_count": null,
   "metadata": {},
   "outputs": [],
   "source": []
  },
  {
   "cell_type": "code",
   "execution_count": null,
   "metadata": {},
   "outputs": [],
   "source": []
  },
  {
   "cell_type": "code",
   "execution_count": null,
   "metadata": {},
   "outputs": [],
   "source": []
  },
  {
   "cell_type": "code",
   "execution_count": null,
   "metadata": {},
   "outputs": [],
   "source": []
  },
  {
   "cell_type": "code",
   "execution_count": null,
   "metadata": {},
   "outputs": [],
   "source": []
  },
  {
   "cell_type": "code",
   "execution_count": null,
   "metadata": {},
   "outputs": [],
   "source": []
  }
 ],
 "metadata": {
  "kernelspec": {
   "display_name": "medical_chatbot",
   "language": "python",
   "name": "python3"
  },
  "language_info": {
   "codemirror_mode": {
    "name": "ipython",
    "version": 3
   },
   "file_extension": ".py",
   "mimetype": "text/x-python",
   "name": "python",
   "nbconvert_exporter": "python",
   "pygments_lexer": "ipython3",
   "version": "3.10.16"
  }
 },
 "nbformat": 4,
 "nbformat_minor": 2
}
