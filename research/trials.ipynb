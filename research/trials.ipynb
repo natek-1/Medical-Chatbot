{
 "cells": [
  {
   "cell_type": "code",
   "execution_count": 1,
   "metadata": {},
   "outputs": [],
   "source": [
    "import os\n",
    "os.chdir(\"../\")"
   ]
  },
  {
   "cell_type": "code",
   "execution_count": 2,
   "metadata": {},
   "outputs": [
    {
     "name": "stdout",
     "output_type": "stream",
     "text": [
      "/Users/ngkuissi/Dev/projects/Medical-Chatbot\n"
     ]
    }
   ],
   "source": [
    "!pwd"
   ]
  },
  {
   "cell_type": "code",
   "execution_count": 15,
   "metadata": {},
   "outputs": [],
   "source": [
    "from langchain.document_loaders import PyPDFLoader, DirectoryLoader\n",
    "from langchain.text_splitter import RecursiveCharacterTextSplitter\n",
    "from langchain_huggingface import HuggingFaceEmbeddings\n",
    "from pinecone import Pinecone, ServerlessSpec\n",
    "from dotenv import load_dotenv"
   ]
  },
  {
   "cell_type": "code",
   "execution_count": 13,
   "metadata": {},
   "outputs": [
    {
     "data": {
      "text/plain": [
       "True"
      ]
     },
     "execution_count": 13,
     "metadata": {},
     "output_type": "execute_result"
    }
   ],
   "source": [
    "load_dotenv()"
   ]
  },
  {
   "cell_type": "code",
   "execution_count": 4,
   "metadata": {},
   "outputs": [],
   "source": [
    "def load_pdf_file(path):\n",
    "    loader = DirectoryLoader(\n",
    "        path, glob=\"medical_book.pdf\", loader_cls=PyPDFLoader\n",
    "    )\n",
    "    return loader.load()"
   ]
  },
  {
   "cell_type": "code",
   "execution_count": 5,
   "metadata": {},
   "outputs": [],
   "source": [
    "extracted_data = load_pdf_file(\"data/\")"
   ]
  },
  {
   "cell_type": "code",
   "execution_count": 6,
   "metadata": {},
   "outputs": [
    {
     "data": {
      "text/plain": [
       "'diaphragm is effective only if used during every episode\\nof sexual intercourse. The same is true for condoms and\\nthe cervical cap. Some methods are automatically work-\\ning every day, no matter what. These methods include\\nDepo Provera, Norplant, the IUD, and tubal sterilization.\\nThere are many different ways to use birth control.\\nThey can be divided into several groups:\\n• By mouth (oral)—Birth control pills must be taken by\\nmouth every day.\\n• Injected—Depo Provera is a hormonal medication that\\nis given by injection every three months.\\n• Implanted—Norplant is a long-acting hormonal form\\nof birth control that is implanted under the skin of the\\nupper arm.\\n• Vaginal—Spermicides and barrier methods work in the\\nvagina.\\n• Intra-uterine—The IUD is inserted into the uterus.\\n• Surgical—Tubal sterilization is a form of surgery. A\\ndoctor must perform the procedure in a hospital or sur-\\ngical clinic. Many women need general anesthesia.\\nThe methods of birth control differ from each other\\nin the timing of when they are used. Some methods of\\nbirth control must be used specifically at the time of sex-\\nual intercourse (condoms, diaphragm, cervical cap, sper-\\nmicides). All other methods of birth control must be\\nworking all the time to provide protection (hormonal\\nmethods, IUDs, tubal sterilization).\\nPrecautions\\nThere are risks associated with some forms of birth\\ncontrol. Some of the risks of each method are listed\\nbelow:\\n• Birth control pills—The hormone (estrogen) in birth\\ncontrol pills can increase the risk of heart attack in\\nwomen over 40 who smoke.\\n• IUD—The IUD can increase the risk of serious pelvic\\ninfection. The IUD can also injure the uterus by poking\\ninto or through the uterine wall. Surgery might be need-\\ned to fix this.\\n• Tubal sterilization—“Tying the tubes” is a surgical pro-\\ncedure and has all the risks of any other surgery, includ-\\ning the risks of anesthesia, infection, and bleeding.\\nPreparation\\nNo specific preparation is needed before using con-\\ntraception. However, a woman must be sure that she is\\nnot already pregnant before using a hormonal method or\\nhaving an IUD placed.\\nAftercare\\nNo aftercare is needed.\\nRisks\\nMany methods of birth control have side effects.\\nKnowing the side effects can help a woman to determine\\nwhich method of birth control is right for her.\\n• Hormonal methods—The hormones in birth control\\npills, Depo Provera, and Norplant can cause changes in\\nmenstrual periods, changes in mood, weight gain,acne,\\nand headaches. In addition, it may take many months to\\nbegin ovulating again once a woman stops using Depo\\nProvera or Norplant.\\n• Barrier methods—A woman must insert the diaphragm\\nin just the right way to be sure that it works properly.\\nSome women get more urinary tract infections if they\\nuse a diaphragm. This is because the diaphragm can\\npress against the urethra, the tube that connects the\\nbladder to the outside.\\n• Spermicides—Some women and men are allergic to\\nspermicides or find them irritating to the skin.\\n• IUD—The IUD is a foreign body that stays inside the\\nuterus, and the uterus tries to get it out. A woman may\\nhave heavier menstrual periods and more menstrual\\ncramping with an IUD in place.\\nGALE ENCYCLOPEDIA OF MEDICINE 2912\\nContraception\\nA variety of intrauterine contraceptive devices.The proba-\\nbility of a pregnancy for year of use is about 2 to 3%. IUDs\\nmade with copper coils should be replaced every 3 to 5\\nyears.(Photo Researchers, Inc. Reproduced by permission.)\\nGEM -0625 to 1002 - C  10/22/03 6:11 PM  Page 912'"
      ]
     },
     "execution_count": 6,
     "metadata": {},
     "output_type": "execute_result"
    }
   ],
   "source": [
    "extracted_data[300].page_content"
   ]
  },
  {
   "cell_type": "code",
   "execution_count": 7,
   "metadata": {},
   "outputs": [],
   "source": [
    "def split_text(extracted_data):\n",
    "    text_splitter = RecursiveCharacterTextSplitter(chunk_size=500, chunk_overlap=20)\n",
    "    text_chunks = text_splitter.split_documents(extracted_data)\n",
    "    return text_chunks"
   ]
  },
  {
   "cell_type": "code",
   "execution_count": 8,
   "metadata": {},
   "outputs": [
    {
     "name": "stdout",
     "output_type": "stream",
     "text": [
      "Length of chunks: 7023\n"
     ]
    }
   ],
   "source": [
    "text_chunks = split_text(extracted_data)\n",
    "print(\"Length of chunks:\", len(text_chunks))"
   ]
  },
  {
   "cell_type": "code",
   "execution_count": 9,
   "metadata": {},
   "outputs": [],
   "source": [
    "def downlaod_hugging_face_embeddings():\n",
    "    embedding_model = HuggingFaceEmbeddings(model_name=\"sentence-transformers/all-MiniLM-L6-v2\")\n",
    "    return embedding_model"
   ]
  },
  {
   "cell_type": "code",
   "execution_count": 10,
   "metadata": {},
   "outputs": [
    {
     "name": "stderr",
     "output_type": "stream",
     "text": [
      "/Users/ngkuissi/miniforge3/envs/medical_chatbot/lib/python3.10/site-packages/sentence_transformers/cross_encoder/CrossEncoder.py:13: TqdmWarning: IProgress not found. Please update jupyter and ipywidgets. See https://ipywidgets.readthedocs.io/en/stable/user_install.html\n",
      "  from tqdm.autonotebook import tqdm, trange\n"
     ]
    }
   ],
   "source": [
    "embedding_model = downlaod_hugging_face_embeddings()"
   ]
  },
  {
   "cell_type": "code",
   "execution_count": 11,
   "metadata": {},
   "outputs": [
    {
     "name": "stdout",
     "output_type": "stream",
     "text": [
      "Length 384\n"
     ]
    }
   ],
   "source": [
    "query_result = embedding_model.embed_query(\"Hello world\")\n",
    "print(\"Length\", len(query_result))"
   ]
  },
  {
   "cell_type": "code",
   "execution_count": 21,
   "metadata": {},
   "outputs": [
    {
     "data": {
      "text/plain": [
       "<pinecone.control.pinecone.Pinecone at 0x31c8726e0>"
      ]
     },
     "execution_count": 21,
     "metadata": {},
     "output_type": "execute_result"
    }
   ],
   "source": [
    "pc = Pinecone(api_key=os.environ['PINECONE_API_KEY'])\n",
    "pc"
   ]
  },
  {
   "cell_type": "code",
   "execution_count": 24,
   "metadata": {},
   "outputs": [],
   "source": [
    "index_name = \"medical-bot\"\n",
    "\n",
    "pc.create_index(\n",
    "    name=index_name,\n",
    "    dimension=384, # Replace with your model dimensions\n",
    "    metric=\"cosine\", # Replace with your model metric\n",
    "    spec=ServerlessSpec(\n",
    "        cloud=\"aws\",\n",
    "        region=\"us-east-1\"\n",
    "    ) \n",
    ")"
   ]
  },
  {
   "cell_type": "code",
   "execution_count": null,
   "metadata": {},
   "outputs": [],
   "source": []
  }
 ],
 "metadata": {
  "kernelspec": {
   "display_name": "medical_chatbot",
   "language": "python",
   "name": "python3"
  },
  "language_info": {
   "codemirror_mode": {
    "name": "ipython",
    "version": 3
   },
   "file_extension": ".py",
   "mimetype": "text/x-python",
   "name": "python",
   "nbconvert_exporter": "python",
   "pygments_lexer": "ipython3",
   "version": "3.10.16"
  }
 },
 "nbformat": 4,
 "nbformat_minor": 2
}
